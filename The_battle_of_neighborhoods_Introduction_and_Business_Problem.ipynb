{
 "cells": [
  {
   "cell_type": "markdown",
   "metadata": {},
   "source": [
    "# The Battle of the Neighborhoods - Introduction & Business problem:"
   ]
  },
  {
   "cell_type": "markdown",
   "metadata": {},
   "source": [
    "## Problem Background:"
   ]
  },
  {
   "cell_type": "markdown",
   "metadata": {},
   "source": [
    "Paris is the capital of France and the most populous city in this country. The City of Paris is part of *île-de-France* region and it is considered as one of economic centers in Europe. It is multicultural city and provides many business opportunities. It is also known by its history with presence of historical buildings and museum like museum of Louvre. The city is a major center for banking and finance, retailing, world trade, transportation, tourism, real estate, media, advertising, legal services, accountancy, insurance, theater, fashion, and the arts in Paris.\n",
    "\n",
    "Attractivity brings competitivity. Paris is the most competitive market in France. For starting a business there, business analysis should be provided to better understanding business environment, reduce risk and have resonable return of investment. "
   ]
  },
  {
   "cell_type": "markdown",
   "metadata": {},
   "source": [
    "## Problem description:"
   ]
  },
  {
   "cell_type": "markdown",
   "metadata": {},
   "source": [
    "A restaurant is a business which prepares and serves food and drink to customers for certain profit. Paris is famous by its culunary art and *haute cuisine* and presence of star-studded Chef. The city is home of the finest and most diverse haute cuisine restaurants in the world. In addition to french cuisine, food culture includes also an array of international cuisines influenced by multiculturality of the town.\n",
    "\n",
    "According to the guardian, there is international cuisines that is exists in paris are:\n",
    "\n",
    "1. North African cuisine: Couscous, Tagines\n",
    "2. Asian cuisine especially Vietnamian cuisine: Pho Ta, sushi\n",
    "3. Africa south of the Sahara cuisine: Poulet Yassa\n",
    "4. Italian cuisine: Pizzas and pastas\n",
    "5. Lebanese cuisine: m'tabal, kibbeh nayyeh, falafel\n",
    "6. Turkish cuisine: kebab, baklava... etc\n",
    "\n",
    "To survive in such competitive market, it is very important to startegically plan. Various factors need to be studied in order to decide on the location such as :\n",
    "\n",
    "1. Paris Population\n",
    "2. Paris Demographics\n",
    "3. Are there any Farmers Markets, Wholesale markets etc nearby so that the ingredients can be purchased fresh to maintain quality and cost?\n",
    "4. Are there any venues like Gyms, Entertainmnet zones, Parks etc nearby where floating population is high etc\n",
    "5. Who are the competitors in that location?\n",
    "6. Cuisine served / Menu of the competitors\n",
    "7. Segmentation of the Borough\n",
    "8. Untapped markets\n",
    "9. Saturated markets etc\n",
    "\n",
    "\n",
    "Eventhough well funded a restauration company named XYZ Company.  This company needs to choose the correct location to start. If this is successful, so it can replicate the same in other locations. First move is very important, thereby choice of location is very important."
   ]
  },
  {
   "cell_type": "markdown",
   "metadata": {},
   "source": [
    "## Target Audiance"
   ]
  },
  {
   "cell_type": "markdown",
   "metadata": {},
   "source": [
    "Objective of this study is to locate and recommend to **Anyone who wants to open a new restaurant in Paris** which neighborhood will be best choice to start."
   ]
  },
  {
   "cell_type": "markdown",
   "metadata": {},
   "source": [
    "## Success Criteria"
   ]
  },
  {
   "cell_type": "markdown",
   "metadata": {},
   "source": [
    "The success criteria of the project will be a good recommendation of neighborhood choice to XYZ Company based on lake of restaurant specialized in certain type of restaurants based on location and nearest suppliers of ingredients."
   ]
  },
  {
   "cell_type": "markdown",
   "metadata": {},
   "source": [
    "Source:  \n",
    "[1] https://en.wikipedia.org/wiki/Paris  \n",
    "[2] https://www.theguardian.com/travel/2011/may/06/top-10-best-paris-ethnic-restaurants"
   ]
  }
 ],
 "metadata": {
  "kernelspec": {
   "display_name": "Python 3",
   "language": "python",
   "name": "python3"
  },
  "language_info": {
   "codemirror_mode": {
    "name": "ipython",
    "version": 3
   },
   "file_extension": ".py",
   "mimetype": "text/x-python",
   "name": "python",
   "nbconvert_exporter": "python",
   "pygments_lexer": "ipython3",
   "version": "3.7.3"
  }
 },
 "nbformat": 4,
 "nbformat_minor": 2
}
